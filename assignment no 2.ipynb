{
 "cells": [
  {
   "cell_type": "markdown",
   "id": "ae7ce58c",
   "metadata": {},
   "source": [
    "q1:- 1.What are the two values of the Boolean data type?\n",
    "    \n",
    "ans : well in python boolean data type has two values :- TRUE AND FALSE \n",
    "        \n",
    "\n",
    "How do you write them?\n",
    "\n",
    "lets take an example\n",
    "a = 10\n",
    "b = 20\n",
    "if a >b = false \n",
    "if a<b = true"
   ]
  },
  {
   "cell_type": "markdown",
   "id": "af565e20",
   "metadata": {},
   "source": [
    "q2 :- What are the three different types of Boolean operators?\n",
    "\n",
    "ans :- and\n",
    "       or\n",
    "       not or and not\n",
    "\n",
    "\n"
   ]
  },
  {
   "cell_type": "code",
   "execution_count": null,
   "id": "14c654d3",
   "metadata": {},
   "outputs": [],
   "source": [
    "(5 > 4) and (3 == 5) = 0 or false\n",
    "not (5 > 4) = false\n",
    "(5 > 4) or (3 == 5) = 1 or true\n",
    "not ((5 > 4) or (3 == 5))  false\n",
    "(True and True) and (True == False) = 0 = false\n",
    "(not False) or (not True) true"
   ]
  },
  {
   "cell_type": "markdown",
   "id": "e8162df4",
   "metadata": {},
   "source": [
    "6. How do you tell the difference between the equal to and assignment operators?Describe a\n",
    "condition and when you would use one.\n",
    "\n",
    "ans :- equal to(==) is used as a comparission operator is it help to compare the values and basically used in main boady of a programme \n",
    "       max used in conditional statements if else and also in for loops and while loops\n",
    "        \n",
    "       assignment operator (=) basically used for assigning the values in particular variable it basicallyb used in outside the main boady\n",
    "                  \n",
    "        \n",
    "        example :- \n",
    "        \n",
    "        "
   ]
  },
  {
   "cell_type": "markdown",
   "id": "ac87c34e",
   "metadata": {},
   "source": [
    "5. What are the six comparison operators?\n",
    "\n",
    "1) less than <\n",
    "2) greater than >\n",
    "3) less than equal to <=\n",
    "4)grater than equal to >=\n",
    "5)equal to ==\n",
    "6)not equal to !=\n"
   ]
  },
  {
   "cell_type": "code",
   "execution_count": null,
   "id": "52b0eb2d",
   "metadata": {},
   "outputs": [],
   "source": [
    "9.If your programme is stuck in an endless loop, what keys you’ll press?\n",
    "\n",
    "ans : Break"
   ]
  },
  {
   "cell_type": "markdown",
   "id": "9166a27d",
   "metadata": {},
   "source": [
    "How can you tell the difference between break and continue?\n",
    "\n",
    "break :- it helps to break the continous or endless loop\n",
    "    \n",
    "    \n",
    "continous :- it help to give control imediately to loop , it means whatever we written after continous statement \n",
    "             its not going to execute , nature of continous statement is give controll immediately to loop"
   ]
  },
  {
   "cell_type": "code",
   "execution_count": null,
   "id": "ec811789",
   "metadata": {},
   "outputs": [],
   "source": [
    "11. In a for loop, what is the difference between range(10), range(0, 10), and range(0, 10, 1)?\n",
    " ans :- "
   ]
  },
  {
   "cell_type": "code",
   "execution_count": null,
   "id": "e6d035f1",
   "metadata": {},
   "outputs": [],
   "source": [
    "12 ;- Write a short program that prints the numbers 1 to 10 using a for loop. Then write an equivalent\n",
    "program that prints the numbers 1 to 10 using a while loop."
   ]
  },
  {
   "cell_type": "code",
   "execution_count": 12,
   "id": "e48ec282",
   "metadata": {},
   "outputs": [
    {
     "name": "stdout",
     "output_type": "stream",
     "text": [
      "1\n",
      "2\n",
      "3\n",
      "4\n",
      "5\n",
      "6\n",
      "7\n",
      "8\n",
      "9\n",
      "10\n"
     ]
    }
   ],
   "source": [
    "a = 10\n",
    "for i in range(a):\n",
    "    if i<=a:\n",
    "        print(i+1)\n",
    "    "
   ]
  },
  {
   "cell_type": "code",
   "execution_count": 15,
   "id": "a598b4db",
   "metadata": {},
   "outputs": [
    {
     "name": "stdout",
     "output_type": "stream",
     "text": [
      "1\n",
      "2\n",
      "3\n",
      "4\n",
      "5\n",
      "6\n",
      "7\n",
      "8\n",
      "9\n",
      "10\n"
     ]
    }
   ],
   "source": [
    "a = 1\n",
    "b = 10\n",
    "while a <= b:\n",
    "    print(a)\n",
    "    a = a+1"
   ]
  },
  {
   "cell_type": "code",
   "execution_count": null,
   "id": "f86bb406",
   "metadata": {},
   "outputs": [],
   "source": [
    "11. In a for loop, what is the difference between range(10), range(0, 10), and range(0, 10, 1)?"
   ]
  },
  {
   "cell_type": "code",
   "execution_count": 16,
   "id": "92647e4b",
   "metadata": {},
   "outputs": [
    {
     "name": "stdout",
     "output_type": "stream",
     "text": [
      "0\n",
      "1\n",
      "2\n",
      "3\n",
      "4\n",
      "5\n",
      "6\n",
      "7\n",
      "8\n",
      "9\n"
     ]
    }
   ],
   "source": [
    "for i in range(10):\n",
    "    print(i)"
   ]
  },
  {
   "cell_type": "code",
   "execution_count": 17,
   "id": "8c7dadfa",
   "metadata": {},
   "outputs": [
    {
     "name": "stdout",
     "output_type": "stream",
     "text": [
      "0\n",
      "1\n",
      "2\n",
      "3\n",
      "4\n",
      "5\n",
      "6\n",
      "7\n",
      "8\n",
      "9\n"
     ]
    }
   ],
   "source": [
    "for i in range(0,10):\n",
    "    print(i)"
   ]
  },
  {
   "cell_type": "code",
   "execution_count": 18,
   "id": "49ec199a",
   "metadata": {},
   "outputs": [
    {
     "name": "stdout",
     "output_type": "stream",
     "text": [
      "0\n",
      "1\n",
      "2\n",
      "3\n",
      "4\n",
      "5\n",
      "6\n",
      "7\n",
      "8\n",
      "9\n"
     ]
    }
   ],
   "source": [
    "for i in range(0,10,1):\n",
    "    print(i)"
   ]
  },
  {
   "cell_type": "code",
   "execution_count": null,
   "id": "08b16a65",
   "metadata": {},
   "outputs": [],
   "source": [
    "If you had a function named bacon() inside a module named spam, how would you call it after\n",
    "importing spam?"
   ]
  },
  {
   "cell_type": "code",
   "execution_count": 26,
   "id": "6ced96e5",
   "metadata": {},
   "outputs": [
    {
     "ename": "ModuleNotFoundError",
     "evalue": "No module named 'spam'",
     "output_type": "error",
     "traceback": [
      "\u001b[1;31m---------------------------------------------------------------------------\u001b[0m",
      "\u001b[1;31mModuleNotFoundError\u001b[0m                       Traceback (most recent call last)",
      "\u001b[1;32mC:\\Users\\ADMINI~1\\AppData\\Local\\Temp/ipykernel_2288/1960553969.py\u001b[0m in \u001b[0;36m<module>\u001b[1;34m\u001b[0m\n\u001b[1;32m----> 1\u001b[1;33m \u001b[1;32mfrom\u001b[0m \u001b[0mspam\u001b[0m \u001b[1;32mimport\u001b[0m \u001b[1;33m*\u001b[0m\u001b[1;33m\u001b[0m\u001b[1;33m\u001b[0m\u001b[0m\n\u001b[0m\u001b[0;32m      2\u001b[0m \u001b[0mbacon\u001b[0m\u001b[1;33m(\u001b[0m\u001b[1;36m10\u001b[0m\u001b[1;33m)\u001b[0m\u001b[1;33m\u001b[0m\u001b[1;33m\u001b[0m\u001b[0m\n",
      "\u001b[1;31mModuleNotFoundError\u001b[0m: No module named 'spam'"
     ]
    }
   ],
   "source": [
    "from spam import *\n",
    "bacon(10)"
   ]
  },
  {
   "cell_type": "code",
   "execution_count": null,
   "id": "1670096b",
   "metadata": {},
   "outputs": [],
   "source": [
    "8. Write code that prints Hello if 1 is stored in spam, prints Howdy if 2 is stored in spam, and prints\n",
    "Greetings! if anything else is stored in spam."
   ]
  },
  {
   "cell_type": "code",
   "execution_count": 25,
   "id": "61068a0b",
   "metadata": {},
   "outputs": [
    {
     "name": "stdout",
     "output_type": "stream",
     "text": [
      "greetings\n",
      "hello\n",
      "greetings\n",
      "howdy\n"
     ]
    }
   ],
   "source": [
    "spam = 3\n",
    "for i in list(range(spam)):\n",
    "    if i == 1:\n",
    "        print(\"hello\")\n",
    "    if i == 2 :\n",
    "        print(\"howdy\")\n",
    "    else:\n",
    "        print(\"greetings\")"
   ]
  },
  {
   "cell_type": "markdown",
   "id": "49c7f253",
   "metadata": {},
   "source": [
    "# can you explain why these greeting came after howdy please"
   ]
  },
  {
   "cell_type": "code",
   "execution_count": null,
   "id": "7e2a5da3",
   "metadata": {},
   "outputs": [],
   "source": [
    "7. Identify the three blocks in this code:\n",
    "spam = 0\n",
    "if spam == 10:\n",
    "print(&#39;eggs&#39;)\n",
    "if spam &gt; 5:\n",
    "print(&#39;bacon&#39;)\n",
    "else:\n",
    "print(&#39;ham&#39;)\n",
    "print(&#39;spam&#39;)\n",
    "print(&#39;spam&#39;)"
   ]
  },
  {
   "cell_type": "code",
   "execution_count": null,
   "id": "44f20610",
   "metadata": {},
   "outputs": [],
   "source": [
    "the three blocks are all that 3 conditional statements\n"
   ]
  },
  {
   "cell_type": "code",
   "execution_count": null,
   "id": "5746bce1",
   "metadata": {},
   "outputs": [],
   "source": []
  },
  {
   "cell_type": "code",
   "execution_count": null,
   "id": "eeefa23e",
   "metadata": {},
   "outputs": [],
   "source": []
  },
  {
   "cell_type": "code",
   "execution_count": null,
   "id": "e76302ce",
   "metadata": {},
   "outputs": [],
   "source": []
  },
  {
   "cell_type": "code",
   "execution_count": null,
   "id": "e8bf4ecf",
   "metadata": {},
   "outputs": [],
   "source": []
  },
  {
   "cell_type": "code",
   "execution_count": null,
   "id": "d0ec796b",
   "metadata": {},
   "outputs": [],
   "source": []
  },
  {
   "cell_type": "code",
   "execution_count": 23,
   "id": "a2fb462f",
   "metadata": {},
   "outputs": [
    {
     "data": {
      "text/plain": [
       "[0, 1, 2]"
      ]
     },
     "execution_count": 23,
     "metadata": {},
     "output_type": "execute_result"
    }
   ],
   "source": [
    "list(range(spam))"
   ]
  },
  {
   "cell_type": "code",
   "execution_count": null,
   "id": "53c591a7",
   "metadata": {},
   "outputs": [],
   "source": [
    "q 7,8,13 cant understand please explained and reply"
   ]
  }
 ],
 "metadata": {
  "kernelspec": {
   "display_name": "Python 3 (ipykernel)",
   "language": "python",
   "name": "python3"
  },
  "language_info": {
   "codemirror_mode": {
    "name": "ipython",
    "version": 3
   },
   "file_extension": ".py",
   "mimetype": "text/x-python",
   "name": "python",
   "nbconvert_exporter": "python",
   "pygments_lexer": "ipython3",
   "version": "3.9.7"
  }
 },
 "nbformat": 4,
 "nbformat_minor": 5
}
